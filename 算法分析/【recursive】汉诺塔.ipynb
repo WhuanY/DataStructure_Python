{
 "cells": [
  {
   "cell_type": "markdown",
   "metadata": {},
   "source": [
    "## 汉诺塔问题\n",
    "汉诺塔问题是经典的递归问题。对于任意高的汉诺塔，完成一个塔的移动只需要：\n",
    "1. 将Disk上的Tower移动到transitPole(移动Tower从一Pole到另外一个Pole)\n",
    "2. 将Disk从startPole移动到targetPole(移动一个底盘Disk)\n",
    "3. 将Tower从transitPole移动到targetPole(移动Tower从一Pole到另外一个Pole)\n",
    "步骤一和步骤三本质上是同一个方法，但是Tower的Height降低了"
   ]
  },
  {
   "cell_type": "code",
   "execution_count": 17,
   "metadata": {},
   "outputs": [
    {
     "name": "stderr",
     "output_type": "stream",
     "text": [
      "IOPub data rate exceeded.\n",
      "The notebook server will temporarily stop sending output\n",
      "to the client in order to avoid crashing it.\n",
      "To change this limit, set the config variable\n",
      "`--NotebookApp.iopub_data_rate_limit`.\n",
      "\n",
      "Current values:\n",
      "NotebookApp.iopub_data_rate_limit=1000000.0 (bytes/sec)\n",
      "NotebookApp.rate_limit_window=3.0 (secs)\n",
      "\n"
     ]
    }
   ],
   "source": [
    "def moveTower(height,startPole,transitPole,targetPole):\n",
    "    if height >= 1:\n",
    "        moveTower(height-1,startPole,targetPole,transitPole)\n",
    "        moveDisk(height,startPole,targetPole)\n",
    "        moveTower(height-1,transitPole,startPole,targetPole)\n",
    "\n",
    "def moveDisk(disk,startPole,targetPole):\n",
    "    print(f\"Move disk[{disk}] from  {startPole} to {targetPole}\")\n",
    "\n",
    "\n",
    "moveTower(18, \"#1\", \"#2\", \"#3\")"
   ]
  },
  {
   "cell_type": "code",
   "execution_count": null,
   "metadata": {},
   "outputs": [],
   "source": []
  }
 ],
 "metadata": {
  "kernelspec": {
   "display_name": "Python 3 (ipykernel)",
   "language": "python",
   "name": "python3"
  },
  "language_info": {
   "codemirror_mode": {
    "name": "ipython",
    "version": 3
   },
   "file_extension": ".py",
   "mimetype": "text/x-python",
   "name": "python",
   "nbconvert_exporter": "python",
   "pygments_lexer": "ipython3",
   "version": "3.10.9"
  }
 },
 "nbformat": 4,
 "nbformat_minor": 2
}
