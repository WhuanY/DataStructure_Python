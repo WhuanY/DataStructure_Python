{
 "cells": [
  {
   "cell_type": "markdown",
   "metadata": {},
   "source": [
    "## 问题描述\n",
    "- 自动售货机在确认需要还给用户的钱数后，（假设使用硬币归还）需要尽可能还少量的硬币。\n",
    "- 给定需要还钱数量和货币体系（不同面值的coins），输出最少的归还硬币数量。"
   ]
  },
  {
   "cell_type": "code",
   "execution_count": null,
   "metadata": {},
   "outputs": [],
   "source": []
  },
  {
   "cell_type": "code",
   "execution_count": 53,
   "metadata": {},
   "outputs": [],
   "source": [
    "# 递归方法\n",
    "def recMC1(coinValueList,charge):\n",
    "    minCoins = charge\n",
    "    if charge in coinValueList:\n",
    "        return 1\n",
    "    else:\n",
    "        for i in [c for c in coinValueList if c <= charge]:\n",
    "            numCoins = 1 + recMC1(coinValueList, charge-i)\n",
    "\n",
    "            if numCoins < minCoins:\n",
    "                minCoins = numCoins\n",
    "\n",
    "        return minCoins"
   ]
  },
  {
   "cell_type": "code",
   "execution_count": 54,
   "metadata": {},
   "outputs": [
    {
     "name": "stdout",
     "output_type": "stream",
     "text": [
      "6\n"
     ]
    }
   ],
   "source": [
    "print(recMC1([1,5,10,25],63))"
   ]
  },
  {
   "cell_type": "code",
   "execution_count": 49,
   "metadata": {},
   "outputs": [],
   "source": [
    "# 递归方法(改进)\n",
    "\"\"\"\n",
    "上述方法重复计算很多,我们将递归过程中已经计算得到的最优解记录下来。省去多余的循环。\n",
    "\"\"\"\n",
    "def recMC2(coinValueList,charge,knownresults):\n",
    "    minCoins = charge\n",
    "    if charge in coinValueList:\n",
    "        knownresults[charge] = 1 # 最优解的记录\n",
    "        return 1\n",
    "    elif knownresults[charge] > 0:\n",
    "        return knownresults[charge]\n",
    "    else:\n",
    "        for i in [c for c in coinValueList if c <= charge]:\n",
    "            numCoins = 1 + recMC2(coinValueList, charge-i,knownresults)\n",
    "\n",
    "            if numCoins < minCoins:\n",
    "                minCoins = numCoins\n",
    "            \n",
    "            knownresults[charge] = minCoins\n",
    "\n",
    "        return minCoins"
   ]
  },
  {
   "cell_type": "code",
   "execution_count": 51,
   "metadata": {},
   "outputs": [
    {
     "data": {
      "text/plain": [
       "5"
      ]
     },
     "execution_count": 51,
     "metadata": {},
     "output_type": "execute_result"
    }
   ],
   "source": [
    "recMC2([1,5,10,25],62,[0]*63)"
   ]
  },
  {
   "cell_type": "code",
   "execution_count": null,
   "metadata": {},
   "outputs": [],
   "source": []
  }
 ],
 "metadata": {
  "kernelspec": {
   "display_name": "Python 3 (ipykernel)",
   "language": "python",
   "name": "python3"
  },
  "language_info": {
   "codemirror_mode": {
    "name": "ipython",
    "version": 3
   },
   "file_extension": ".py",
   "mimetype": "text/x-python",
   "name": "python",
   "nbconvert_exporter": "python",
   "pygments_lexer": "ipython3",
   "version": "3.10.9"
  }
 },
 "nbformat": 4,
 "nbformat_minor": 2
}
