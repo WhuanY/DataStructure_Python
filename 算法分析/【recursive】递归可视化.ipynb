{
 "cells": [
  {
   "cell_type": "code",
   "execution_count": 1,
   "metadata": {},
   "outputs": [
    {
     "ename": "TclError",
     "evalue": "invalid command name \".!canvas\"",
     "output_type": "error",
     "traceback": [
      "\u001b[0;31m---------------------------------------------------------------------------\u001b[0m",
      "\u001b[0;31mTclError\u001b[0m                                  Traceback (most recent call last)",
      "Cell \u001b[0;32mIn[1], line 11\u001b[0m\n\u001b[1;32m      8\u001b[0m         t\u001b[38;5;241m.\u001b[39mright(\u001b[38;5;241m90\u001b[39m)\n\u001b[1;32m      9\u001b[0m         drawSpiral(t,linelen \u001b[38;5;241m+\u001b[39m \u001b[38;5;241m1\u001b[39m)\n\u001b[0;32m---> 11\u001b[0m \u001b[43mdrawSpiral\u001b[49m\u001b[43m(\u001b[49m\u001b[43mt\u001b[49m\u001b[43m,\u001b[49m\u001b[38;5;241;43m50\u001b[39;49m\u001b[43m)\u001b[49m\n",
      "Cell \u001b[0;32mIn[1], line 9\u001b[0m, in \u001b[0;36mdrawSpiral\u001b[0;34m(t, linelen)\u001b[0m\n\u001b[1;32m      7\u001b[0m t\u001b[38;5;241m.\u001b[39mforward(linelen)\n\u001b[1;32m      8\u001b[0m t\u001b[38;5;241m.\u001b[39mright(\u001b[38;5;241m90\u001b[39m)\n\u001b[0;32m----> 9\u001b[0m \u001b[43mdrawSpiral\u001b[49m\u001b[43m(\u001b[49m\u001b[43mt\u001b[49m\u001b[43m,\u001b[49m\u001b[43mlinelen\u001b[49m\u001b[43m \u001b[49m\u001b[38;5;241;43m+\u001b[39;49m\u001b[43m \u001b[49m\u001b[38;5;241;43m1\u001b[39;49m\u001b[43m)\u001b[49m\n",
      "Cell \u001b[0;32mIn[1], line 9\u001b[0m, in \u001b[0;36mdrawSpiral\u001b[0;34m(t, linelen)\u001b[0m\n\u001b[1;32m      7\u001b[0m t\u001b[38;5;241m.\u001b[39mforward(linelen)\n\u001b[1;32m      8\u001b[0m t\u001b[38;5;241m.\u001b[39mright(\u001b[38;5;241m90\u001b[39m)\n\u001b[0;32m----> 9\u001b[0m \u001b[43mdrawSpiral\u001b[49m\u001b[43m(\u001b[49m\u001b[43mt\u001b[49m\u001b[43m,\u001b[49m\u001b[43mlinelen\u001b[49m\u001b[43m \u001b[49m\u001b[38;5;241;43m+\u001b[39;49m\u001b[43m \u001b[49m\u001b[38;5;241;43m1\u001b[39;49m\u001b[43m)\u001b[49m\n",
      "    \u001b[0;31m[... skipping similar frames: drawSpiral at line 9 (576 times)]\u001b[0m\n",
      "Cell \u001b[0;32mIn[1], line 9\u001b[0m, in \u001b[0;36mdrawSpiral\u001b[0;34m(t, linelen)\u001b[0m\n\u001b[1;32m      7\u001b[0m t\u001b[38;5;241m.\u001b[39mforward(linelen)\n\u001b[1;32m      8\u001b[0m t\u001b[38;5;241m.\u001b[39mright(\u001b[38;5;241m90\u001b[39m)\n\u001b[0;32m----> 9\u001b[0m \u001b[43mdrawSpiral\u001b[49m\u001b[43m(\u001b[49m\u001b[43mt\u001b[49m\u001b[43m,\u001b[49m\u001b[43mlinelen\u001b[49m\u001b[43m \u001b[49m\u001b[38;5;241;43m+\u001b[39;49m\u001b[43m \u001b[49m\u001b[38;5;241;43m1\u001b[39;49m\u001b[43m)\u001b[49m\n",
      "Cell \u001b[0;32mIn[1], line 7\u001b[0m, in \u001b[0;36mdrawSpiral\u001b[0;34m(t, linelen)\u001b[0m\n\u001b[1;32m      5\u001b[0m \u001b[38;5;28;01mdef\u001b[39;00m \u001b[38;5;21mdrawSpiral\u001b[39m(t,linelen):\n\u001b[1;32m      6\u001b[0m     \u001b[38;5;28;01mif\u001b[39;00m linelen \u001b[38;5;241m>\u001b[39m \u001b[38;5;241m0\u001b[39m:\n\u001b[0;32m----> 7\u001b[0m         \u001b[43mt\u001b[49m\u001b[38;5;241;43m.\u001b[39;49m\u001b[43mforward\u001b[49m\u001b[43m(\u001b[49m\u001b[43mlinelen\u001b[49m\u001b[43m)\u001b[49m\n\u001b[1;32m      8\u001b[0m         t\u001b[38;5;241m.\u001b[39mright(\u001b[38;5;241m90\u001b[39m)\n\u001b[1;32m      9\u001b[0m         drawSpiral(t,linelen \u001b[38;5;241m+\u001b[39m \u001b[38;5;241m1\u001b[39m)\n",
      "File \u001b[0;32m~/anaconda3/lib/python3.10/turtle.py:1637\u001b[0m, in \u001b[0;36mTNavigator.forward\u001b[0;34m(self, distance)\u001b[0m\n\u001b[1;32m   1616\u001b[0m \u001b[38;5;28;01mdef\u001b[39;00m \u001b[38;5;21mforward\u001b[39m(\u001b[38;5;28mself\u001b[39m, distance):\n\u001b[1;32m   1617\u001b[0m     \u001b[38;5;124;03m\"\"\"Move the turtle forward by the specified distance.\u001b[39;00m\n\u001b[1;32m   1618\u001b[0m \n\u001b[1;32m   1619\u001b[0m \u001b[38;5;124;03m    Aliases: forward | fd\u001b[39;00m\n\u001b[0;32m   (...)\u001b[0m\n\u001b[1;32m   1635\u001b[0m \u001b[38;5;124;03m    (-50.00,0.00)\u001b[39;00m\n\u001b[1;32m   1636\u001b[0m \u001b[38;5;124;03m    \"\"\"\u001b[39;00m\n\u001b[0;32m-> 1637\u001b[0m     \u001b[38;5;28;43mself\u001b[39;49m\u001b[38;5;241;43m.\u001b[39;49m\u001b[43m_go\u001b[49m\u001b[43m(\u001b[49m\u001b[43mdistance\u001b[49m\u001b[43m)\u001b[49m\n",
      "File \u001b[0;32m~/anaconda3/lib/python3.10/turtle.py:1605\u001b[0m, in \u001b[0;36mTNavigator._go\u001b[0;34m(self, distance)\u001b[0m\n\u001b[1;32m   1603\u001b[0m \u001b[38;5;124;03m\"\"\"move turtle forward by specified distance\"\"\"\u001b[39;00m\n\u001b[1;32m   1604\u001b[0m ende \u001b[38;5;241m=\u001b[39m \u001b[38;5;28mself\u001b[39m\u001b[38;5;241m.\u001b[39m_position \u001b[38;5;241m+\u001b[39m \u001b[38;5;28mself\u001b[39m\u001b[38;5;241m.\u001b[39m_orient \u001b[38;5;241m*\u001b[39m distance\n\u001b[0;32m-> 1605\u001b[0m \u001b[38;5;28;43mself\u001b[39;49m\u001b[38;5;241;43m.\u001b[39;49m\u001b[43m_goto\u001b[49m\u001b[43m(\u001b[49m\u001b[43mende\u001b[49m\u001b[43m)\u001b[49m\n",
      "File \u001b[0;32m~/anaconda3/lib/python3.10/turtle.py:3177\u001b[0m, in \u001b[0;36mRawTurtle._goto\u001b[0;34m(self, end)\u001b[0m\n\u001b[1;32m   3175\u001b[0m     \u001b[38;5;28mself\u001b[39m\u001b[38;5;241m.\u001b[39m_position \u001b[38;5;241m=\u001b[39m start \u001b[38;5;241m+\u001b[39m delta \u001b[38;5;241m*\u001b[39m n\n\u001b[1;32m   3176\u001b[0m     \u001b[38;5;28;01mif\u001b[39;00m \u001b[38;5;28mself\u001b[39m\u001b[38;5;241m.\u001b[39m_drawing:\n\u001b[0;32m-> 3177\u001b[0m         \u001b[43mscreen\u001b[49m\u001b[38;5;241;43m.\u001b[39;49m\u001b[43m_drawline\u001b[49m\u001b[43m(\u001b[49m\u001b[38;5;28;43mself\u001b[39;49m\u001b[38;5;241;43m.\u001b[39;49m\u001b[43mdrawingLineItem\u001b[49m\u001b[43m,\u001b[49m\n\u001b[1;32m   3178\u001b[0m \u001b[43m                         \u001b[49m\u001b[43m(\u001b[49m\u001b[43mstart\u001b[49m\u001b[43m,\u001b[49m\u001b[43m \u001b[49m\u001b[38;5;28;43mself\u001b[39;49m\u001b[38;5;241;43m.\u001b[39;49m\u001b[43m_position\u001b[49m\u001b[43m)\u001b[49m\u001b[43m,\u001b[49m\n\u001b[1;32m   3179\u001b[0m \u001b[43m                         \u001b[49m\u001b[38;5;28;43mself\u001b[39;49m\u001b[38;5;241;43m.\u001b[39;49m\u001b[43m_pencolor\u001b[49m\u001b[43m,\u001b[49m\u001b[43m \u001b[49m\u001b[38;5;28;43mself\u001b[39;49m\u001b[38;5;241;43m.\u001b[39;49m\u001b[43m_pensize\u001b[49m\u001b[43m,\u001b[49m\u001b[43m \u001b[49m\u001b[43mtop\u001b[49m\u001b[43m)\u001b[49m\n\u001b[1;32m   3180\u001b[0m     \u001b[38;5;28mself\u001b[39m\u001b[38;5;241m.\u001b[39m_update()\n\u001b[1;32m   3181\u001b[0m \u001b[38;5;28;01mif\u001b[39;00m \u001b[38;5;28mself\u001b[39m\u001b[38;5;241m.\u001b[39m_drawing:\n",
      "File \u001b[0;32m~/anaconda3/lib/python3.10/turtle.py:544\u001b[0m, in \u001b[0;36mTurtleScreenBase._drawline\u001b[0;34m(self, lineitem, coordlist, fill, width, top)\u001b[0m\n\u001b[1;32m    542\u001b[0m         cl\u001b[38;5;241m.\u001b[39mappend(x \u001b[38;5;241m*\u001b[39m \u001b[38;5;28mself\u001b[39m\u001b[38;5;241m.\u001b[39mxscale)\n\u001b[1;32m    543\u001b[0m         cl\u001b[38;5;241m.\u001b[39mappend(\u001b[38;5;241m-\u001b[39my \u001b[38;5;241m*\u001b[39m \u001b[38;5;28mself\u001b[39m\u001b[38;5;241m.\u001b[39myscale)\n\u001b[0;32m--> 544\u001b[0m     \u001b[38;5;28;43mself\u001b[39;49m\u001b[38;5;241;43m.\u001b[39;49m\u001b[43mcv\u001b[49m\u001b[38;5;241;43m.\u001b[39;49m\u001b[43mcoords\u001b[49m\u001b[43m(\u001b[49m\u001b[43mlineitem\u001b[49m\u001b[43m,\u001b[49m\u001b[43m \u001b[49m\u001b[38;5;241;43m*\u001b[39;49m\u001b[43mcl\u001b[49m\u001b[43m)\u001b[49m\n\u001b[1;32m    545\u001b[0m \u001b[38;5;28;01mif\u001b[39;00m fill \u001b[38;5;129;01mis\u001b[39;00m \u001b[38;5;129;01mnot\u001b[39;00m \u001b[38;5;28;01mNone\u001b[39;00m:\n\u001b[1;32m    546\u001b[0m     \u001b[38;5;28mself\u001b[39m\u001b[38;5;241m.\u001b[39mcv\u001b[38;5;241m.\u001b[39mitemconfigure(lineitem, fill\u001b[38;5;241m=\u001b[39mfill)\n",
      "File \u001b[0;32m<string>:1\u001b[0m, in \u001b[0;36mcoords\u001b[0;34m(self, *args, **kw)\u001b[0m\n",
      "File \u001b[0;32m~/anaconda3/lib/python3.10/tkinter/__init__.py:2795\u001b[0m, in \u001b[0;36mCanvas.coords\u001b[0;34m(self, *args)\u001b[0m\n\u001b[1;32m   2791\u001b[0m \u001b[38;5;124;03m\"\"\"Return a list of coordinates for the item given in ARGS.\"\"\"\u001b[39;00m\n\u001b[1;32m   2792\u001b[0m \u001b[38;5;66;03m# XXX Should use _flatten on args\u001b[39;00m\n\u001b[1;32m   2793\u001b[0m \u001b[38;5;28;01mreturn\u001b[39;00m [\u001b[38;5;28mself\u001b[39m\u001b[38;5;241m.\u001b[39mtk\u001b[38;5;241m.\u001b[39mgetdouble(x) \u001b[38;5;28;01mfor\u001b[39;00m x \u001b[38;5;129;01min\u001b[39;00m\n\u001b[1;32m   2794\u001b[0m                    \u001b[38;5;28mself\u001b[39m\u001b[38;5;241m.\u001b[39mtk\u001b[38;5;241m.\u001b[39msplitlist(\n\u001b[0;32m-> 2795\u001b[0m            \u001b[38;5;28;43mself\u001b[39;49m\u001b[38;5;241;43m.\u001b[39;49m\u001b[43mtk\u001b[49m\u001b[38;5;241;43m.\u001b[39;49m\u001b[43mcall\u001b[49m\u001b[43m(\u001b[49m\u001b[43m(\u001b[49m\u001b[38;5;28;43mself\u001b[39;49m\u001b[38;5;241;43m.\u001b[39;49m\u001b[43m_w\u001b[49m\u001b[43m,\u001b[49m\u001b[43m \u001b[49m\u001b[38;5;124;43m'\u001b[39;49m\u001b[38;5;124;43mcoords\u001b[39;49m\u001b[38;5;124;43m'\u001b[39;49m\u001b[43m)\u001b[49m\u001b[43m \u001b[49m\u001b[38;5;241;43m+\u001b[39;49m\u001b[43m \u001b[49m\u001b[43margs\u001b[49m\u001b[43m)\u001b[49m)]\n",
      "\u001b[0;31mTclError\u001b[0m: invalid command name \".!canvas\""
     ]
    }
   ],
   "source": [
    "import turtle\n",
    "\n",
    "t = turtle.Turtle()\n",
    "\n",
    "def drawSpiral(t,linelen):\n",
    "    if linelen > 0:\n",
    "        t.forward(linelen)\n",
    "        t.right(90)\n",
    "        drawSpiral(t,linelen + 1)\n",
    "\n",
    "drawSpiral(t,50)\n"
   ]
  },
  {
   "cell_type": "code",
   "execution_count": 1,
   "metadata": {},
   "outputs": [],
   "source": [
    "import turtle\n",
    "\n",
    "def tree(branch_len):\n",
    "    if branch_len > 5:\n",
    "        t.forward(branch_len)\n",
    "        t.right(20)\n",
    "        tree(branch_len-15)\n",
    "        t.left(40)\n",
    "        tree(branch_len-15)\n",
    "        t.right(20)\n",
    "        t.backward(branch_len)\n",
    "\n",
    "t = turtle.Turtle()\n",
    "t.left(90)\n",
    "t.penup()\n",
    "t.backward(100)\n",
    "t.pendown()\n",
    "t.pensize(2)\n",
    "tree(100)"
   ]
  },
  {
   "cell_type": "code",
   "execution_count": null,
   "metadata": {},
   "outputs": [],
   "source": []
  }
 ],
 "metadata": {
  "kernelspec": {
   "display_name": "Python 3 (ipykernel)",
   "language": "python",
   "name": "python3"
  },
  "language_info": {
   "codemirror_mode": {
    "name": "ipython",
    "version": 3
   },
   "file_extension": ".py",
   "mimetype": "text/x-python",
   "name": "python",
   "nbconvert_exporter": "python",
   "pygments_lexer": "ipython3",
   "version": "3.10.9"
  }
 },
 "nbformat": 4,
 "nbformat_minor": 2
}
