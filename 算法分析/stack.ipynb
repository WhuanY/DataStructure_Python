{
 "cells": [
  {
   "cell_type": "markdown",
   "metadata": {},
   "source": [
    "# Stack 数据类型"
   ]
  },
  {
   "cell_type": "code",
   "execution_count": 68,
   "metadata": {},
   "outputs": [],
   "source": [
    "# 使用python实现ADT Stack\n",
    "class Stack:\n",
    "    def __init__(self):\n",
    "        self.items = []\n",
    "    \n",
    "    def isEmpty(self):\n",
    "        return self.items == []\n",
    "\n",
    "    def push(self,item):\n",
    "        self.items.append(item)\n",
    "\n",
    "    def pop(self):\n",
    "        return self.items.pop()\n",
    "    \n",
    "    def peek(self):\n",
    "        return self.items[len(self.items)-1]\n",
    "    \n",
    "    def size(self):\n",
    "        return len(self.items)"
   ]
  },
  {
   "cell_type": "code",
   "execution_count": 62,
   "metadata": {},
   "outputs": [
    {
     "data": {
      "text/plain": [
       "True"
      ]
     },
     "execution_count": 62,
     "metadata": {},
     "output_type": "execute_result"
    }
   ],
   "source": [
    "s = Stack()\n",
    "s.isEmpty()"
   ]
  },
  {
   "cell_type": "code",
   "execution_count": 64,
   "metadata": {},
   "outputs": [
    {
     "name": "stdout",
     "output_type": "stream",
     "text": [
      "True\n"
     ]
    }
   ],
   "source": [
    "#括号匹配具体实现\n",
    "def parCheker(s):\n",
    "    stack = Stack()\n",
    "    pos = 0 \n",
    "    balance = True\n",
    "    while pos < len(s) and balance:\n",
    "        if s[pos] == \"(\":\n",
    "            stack.push(\"(\")\n",
    "        else:\n",
    "            if stack.isEmpty():\n",
    "                balance = False\n",
    "            else:\n",
    "                stack.pop()\n",
    "        pos = pos + 1\n",
    "\n",
    "    if balance and stack.isEmpty():\n",
    "        return True\n",
    "    else:\n",
    "        return False\n",
    "    \n",
    "\n",
    "print(parCheker(\"()\"))\n"
   ]
  },
  {
   "cell_type": "code",
   "execution_count": 78,
   "metadata": {},
   "outputs": [
    {
     "name": "stdout",
     "output_type": "stream",
     "text": [
      "True\n"
     ]
    }
   ],
   "source": [
    "# 三类括号的实现\n",
    "def parsCheker(s):\n",
    "    stack = Stack()\n",
    "    pos = 0 \n",
    "    balance = True\n",
    "    while pos < len(s) and balance:\n",
    "        symbol = s[pos]\n",
    "        if symbol in \"([{\":\n",
    "            stack.push(symbol)\n",
    "        else:\n",
    "            if stack.isEmpty():\n",
    "                balance = False\n",
    "            else:\n",
    "                top = stack.pop()\n",
    "                if not matches(top,symbol):\n",
    "                    balance = False\n",
    "        pos = pos + 1\n",
    "\n",
    "    if balance and stack.isEmpty():\n",
    "        return True\n",
    "    else:\n",
    "        return False\n",
    "\n",
    "def matches(open, close):\n",
    "    opens = \"([{\"\n",
    "    closes = ')]}'\n",
    "    return opens.index(open) == closes.index(close)\n",
    "\n",
    "print(parsCheker(\"({}[{}])\"))"
   ]
  },
  {
   "cell_type": "code",
   "execution_count": null,
   "metadata": {},
   "outputs": [],
   "source": []
  }
 ],
 "metadata": {
  "kernelspec": {
   "display_name": "Python 3 (ipykernel)",
   "language": "python",
   "name": "python3"
  },
  "language_info": {
   "codemirror_mode": {
    "name": "ipython",
    "version": 3
   },
   "file_extension": ".py",
   "mimetype": "text/x-python",
   "name": "python",
   "nbconvert_exporter": "python",
   "pygments_lexer": "ipython3",
   "version": "3.10.9"
  }
 },
 "nbformat": 4,
 "nbformat_minor": 2
}
