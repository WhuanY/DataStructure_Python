{
 "cells": [
  {
   "cell_type": "markdown",
   "metadata": {},
   "source": [
    "## 热土豆问题\n",
    "假设有N个人，有一个热土豆在这N个人中传递，每经过一个人称为传递一次，假设传递m次，最后在哪个人的手中，该人就出去，然后自动落到下一个人手中。 如此往复下去，求最后剩下的那个人（因为只有一个人了，所以不可能再传递下去）？\n",
    "\n",
    "- 给定参加人的人名列表，和每次传土豆次数num，最后返回剩下的人名"
   ]
  },
  {
   "cell_type": "code",
   "execution_count": 17,
   "metadata": {},
   "outputs": [],
   "source": [
    "# 引入Queue类别\n",
    "class Queue():\n",
    "    def __init__(self):\n",
    "        self.items = []\n",
    "    \n",
    "    def isEmpty(self):\n",
    "        return self.items == []\n",
    "    \n",
    "    def enqueue(self, item):\n",
    "        self.items.insert(0,item)\n",
    "\n",
    "    def dequeue(self):\n",
    "        return self.items.pop()\n",
    "\n",
    "    def size(self):\n",
    "        return len(self.items)"
   ]
  },
  {
   "cell_type": "code",
   "execution_count": 18,
   "metadata": {},
   "outputs": [
    {
     "name": "stdout",
     "output_type": "stream",
     "text": [
      "Walter\n"
     ]
    }
   ],
   "source": [
    "def HotPotato(name_lst,num):\n",
    "    namequeue = Queue()\n",
    "    # 将lst名加入列表\n",
    "    for name in name_lst:\n",
    "        namequeue.enqueue(name)\n",
    "\n",
    "    # 模拟土豆传递\n",
    "    while namequeue.size() > 1:\n",
    "        for i in range(num): \n",
    "            n = namequeue.dequeue()\n",
    "            namequeue.enqueue(n)\n",
    "\n",
    "        namequeue.dequeue()\n",
    "\n",
    "    return namequeue.dequeue()\n",
    "print(HotPotato([\"Bill\",\"Walter\",\"David\",\"Susan\",\"Jane\",\"Kane\",\"Bard\"],3))"
   ]
  }
 ],
 "metadata": {
  "kernelspec": {
   "display_name": "Python 3 (ipykernel)",
   "language": "python",
   "name": "python3"
  },
  "language_info": {
   "codemirror_mode": {
    "name": "ipython",
    "version": 3
   },
   "file_extension": ".py",
   "mimetype": "text/x-python",
   "name": "python",
   "nbconvert_exporter": "python",
   "pygments_lexer": "ipython3",
   "version": "3.10.9"
  }
 },
 "nbformat": 4,
 "nbformat_minor": 2
}
