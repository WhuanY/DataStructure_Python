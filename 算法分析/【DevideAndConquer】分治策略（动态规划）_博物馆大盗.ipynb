{
 "cells": [
  {
   "cell_type": "code",
   "execution_count": 1,
   "metadata": {},
   "outputs": [
    {
     "ename": "TypeError",
     "evalue": "unsupported operand type(s) for -: 'list' and 'int'",
     "output_type": "error",
     "traceback": [
      "\u001b[0;31m---------------------------------------------------------------------------\u001b[0m",
      "\u001b[0;31mTypeError\u001b[0m                                 Traceback (most recent call last)",
      "Cell \u001b[0;32mIn[1], line 29\u001b[0m\n\u001b[1;32m     23\u001b[0m             m[(i,w)] \u001b[38;5;241m=\u001b[39m \u001b[38;5;28mmax\u001b[39m(\n\u001b[1;32m     24\u001b[0m                 m[(i\u001b[38;5;241m-\u001b[39m\u001b[38;5;241m1\u001b[39m,w)],\n\u001b[1;32m     25\u001b[0m                 m[(i\u001b[38;5;241m-\u001b[39m\u001b[38;5;241m1\u001b[39m,w\u001b[38;5;241m-\u001b[39mtr[i][\u001b[38;5;124m'\u001b[39m\u001b[38;5;124mw\u001b[39m\u001b[38;5;124m'\u001b[39m])] \u001b[38;5;241m+\u001b[39m tr[i][\u001b[38;5;124m'\u001b[39m\u001b[38;5;124mv\u001b[39m\u001b[38;5;124m'\u001b[39m]\n\u001b[1;32m     26\u001b[0m             )\n\u001b[1;32m     28\u001b[0m \u001b[38;5;66;03m# 输出结果\u001b[39;00m\n\u001b[0;32m---> 29\u001b[0m \u001b[38;5;28mprint\u001b[39m(m[(\u001b[38;5;28mlen\u001b[39m(\u001b[43mtr\u001b[49m\u001b[38;5;241;43m-\u001b[39;49m\u001b[38;5;241;43m1\u001b[39;49m),max_w)])\n",
      "\u001b[0;31mTypeError\u001b[0m: unsupported operand type(s) for -: 'list' and 'int'"
     ]
    }
   ],
   "source": [
    "# 宝物的重量和价值\n",
    "tr = [None, \n",
    "{'w':2,'v':3},\n",
    "{'w':3,'v':4},\n",
    "{'w':4,'v':8},\n",
    "{'w':5,'v':8},\n",
    "{'w':9,'v':10},\n",
    "]\n",
    "# 大盗最大承重\n",
    "max_w = 20\n",
    "\n",
    "# 初始化二维表格m[(i,w)]\n",
    "m = {(i,w):0 for i in range(len(tr))\n",
    "for w in range(max_w+ 1)}\n",
    "\n",
    "# 逐个填写二维表格\n",
    "for i in range(1,len(tr)):\n",
    "    for w in range(1, max_w + 1):\n",
    "        if tr[i]['w'] > w:\n",
    "            m[(i,w)] = m[(i-1,w)]\n",
    "        else:\n",
    "            # 不装第i个宝物，装第i个宝物，两种情况下的最大价值\n",
    "            m[(i,w)] = max(\n",
    "                m[(i-1,w)],\n",
    "                m[(i-1,w-tr[i]['w'])] + tr[i]['v']\n",
    "            )\n",
    "\n",
    "# 输出结果\n",
    "print(m[(len(tr-1),max_w)])"
   ]
  },
  {
   "cell_type": "code",
   "execution_count": null,
   "metadata": {},
   "outputs": [],
   "source": []
  }
 ],
 "metadata": {
  "kernelspec": {
   "display_name": "Python 3 (ipykernel)",
   "language": "python",
   "name": "python3"
  },
  "language_info": {
   "codemirror_mode": {
    "name": "ipython",
    "version": 3
   },
   "file_extension": ".py",
   "mimetype": "text/x-python",
   "name": "python",
   "nbconvert_exporter": "python",
   "pygments_lexer": "ipython3",
   "version": "3.10.9"
  }
 },
 "nbformat": 4,
 "nbformat_minor": 2
}
