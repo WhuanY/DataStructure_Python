{
 "cells": [
  {
   "cell_type": "markdown",
   "metadata": {},
   "source": [
    "## 数列求和\n",
    "- 给定一个列表，如何在不使用循环(for、while)的情况下，对数列中所有项进行求和？\n",
    "    - 方法：将列表求和变为最后两个列表元素求和的问题。"
   ]
  },
  {
   "cell_type": "code",
   "execution_count": 13,
   "metadata": {},
   "outputs": [],
   "source": [
    "def sumlst(lst):\n",
    "    if len(lst) > 1:\n",
    "        return lst[0] + sumlst(lst) \n",
    "    else:\n",
    "        return lst[0]"
   ]
  },
  {
   "cell_type": "code",
   "execution_count": 12,
   "metadata": {},
   "outputs": [
    {
     "data": {
      "text/plain": [
       "7"
      ]
     },
     "execution_count": 12,
     "metadata": {},
     "output_type": "execute_result"
    }
   ],
   "source": []
  },
  {
   "cell_type": "markdown",
   "metadata": {},
   "source": [
    "## 总结\n",
    "- 递归“三定律”\n",
    "    - 必须有基本结束条件【数列问题：列表长度为1】\n",
    "    - 必须有改变状态，向基本条件演进【数列问题：改变列表并向长度为1演进】\n",
    "    - 调用自身【数列问题：更短数列的求和问题】"
   ]
  },
  {
   "cell_type": "markdown",
   "metadata": {},
   "source": [
    "#"
   ]
  }
 ],
 "metadata": {
  "kernelspec": {
   "display_name": "Python 3 (ipykernel)",
   "language": "python",
   "name": "python3"
  },
  "language_info": {
   "codemirror_mode": {
    "name": "ipython",
    "version": 3
   },
   "file_extension": ".py",
   "mimetype": "text/x-python",
   "name": "python",
   "nbconvert_exporter": "python",
   "pygments_lexer": "ipython3",
   "version": "3.10.9"
  }
 },
 "nbformat": 4,
 "nbformat_minor": 2
}
