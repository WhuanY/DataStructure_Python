{
 "cells": [
  {
   "cell_type": "markdown",
   "metadata": {},
   "source": [
    "### 本部分代码用于测试list和dict数据类型的速度"
   ]
  },
  {
   "cell_type": "code",
   "execution_count": null,
   "metadata": {},
   "outputs": [
    {
     "name": "stdout",
     "output_type": "stream",
     "text": [
      "concat 0.945965 seconds\n",
      "\n",
      "append 0.041664 seconds\n",
      "\n",
      "comprehension 0.021560 seconds\n",
      "\n",
      "list range 0.010146 seconds\n",
      "\n"
     ]
    }
   ],
   "source": [
    "def test1():\n",
    "    l = []\n",
    "    for i in range(1000):\n",
    "        l = l + [i]\n",
    "\n",
    "def test2():\n",
    "    l = []\n",
    "    for i in range(1000):\n",
    "        l.append(i)\n",
    "\n",
    "def test3():\n",
    "    l = [i for i in range(1000)]\n",
    "\n",
    "def test4():\n",
    "    l = list(range(1000))\n",
    "\n",
    "from timeit import Timer\n",
    "t1 = Timer('test1()', 'from __main__ import test1')\n",
    "print(\"concat %f seconds\\n\"% t1.timeit(number = 1000))\n",
    "\n",
    "t2 = Timer('test2()', 'from __main__ import test2')\n",
    "print(\"append %f seconds\\n\"% t2.timeit(number = 1000))\n",
    "\n",
    "t3 = Timer('test3()', 'from __main__ import test3')\n",
    "print(\"comprehension %f seconds\\n\"% t3.timeit(number = 1000))\n",
    "\n",
    "t4 = Timer('test4()', 'from __main__ import test4')\n",
    "print(\"list range %f seconds\\n\"% t4.timeit(number = 1000))\n"
   ]
  },
  {
   "cell_type": "markdown",
   "metadata": {},
   "source": [
    "#### 比较list.pop() 和list.pop(i)"
   ]
  },
  {
   "cell_type": "code",
   "execution_count": null,
   "metadata": {},
   "outputs": [],
   "source": [
    "import timeit \n",
    "popzero = timeit.Timer(\"x.pop(0)\",'from __main__ import x')\n",
    "popend = timeit.Timer(\"x.pop()\",'from __main__ import x')\n",
    "\n",
    "x = list(range(2000000))\n",
    "print(popzero.timeit(number=1000))\n",
    "\n",
    "x = list(range(2000000))\n",
    "print(popend.timeit(number=1000))"
   ]
  },
  {
   "cell_type": "code",
   "execution_count": null,
   "metadata": {},
   "outputs": [],
   "source": [
    "import timeit \n",
    "popzero = timeit.Timer(\"x.pop(0)\",'from __main__ import x')\n",
    "popend = timeit.Timer(\"x.pop()\",'from __main__ import x')\n",
    "print(\"pop(0) pop()\")\n",
    "for i in "
   ]
  }
 ],
 "metadata": {
  "kernelspec": {
   "display_name": "Python 3 (ipykernel)",
   "language": "python",
   "name": "python3"
  },
  "language_info": {
   "codemirror_mode": {
    "name": "ipython",
    "version": 3
   },
   "file_extension": ".py",
   "mimetype": "text/x-python",
   "name": "python",
   "nbconvert_exporter": "python",
   "pygments_lexer": "ipython3",
   "version": "3.10.9"
  }
 },
 "nbformat": 4,
 "nbformat_minor": 2
}
