{
 "cells": [
  {
   "cell_type": "markdown",
   "metadata": {},
   "source": [
    "## Time模块"
   ]
  },
  {
   "cell_type": "code",
   "execution_count": 15,
   "metadata": {},
   "outputs": [
    {
     "data": {
      "text/plain": [
       "1709117829.339616"
      ]
     },
     "execution_count": 15,
     "metadata": {},
     "output_type": "execute_result"
    }
   ],
   "source": [
    "def myfunc():\n",
    "    import time \n",
    "    return time.time()\n",
    "\n",
    "myfunc()"
   ]
  },
  {
   "cell_type": "markdown",
   "metadata": {},
   "source": [
    "## 累计求和程序的运行时间检测\n",
    "第一个方法：随着n增加，循环也增加，所以时间会增加"
   ]
  },
  {
   "cell_type": "code",
   "execution_count": 35,
   "metadata": {},
   "outputs": [
    {
     "name": "stdout",
     "output_type": "stream",
     "text": [
      "Sum is 5050 required  0.0000062 seconds\n",
      "Sum is 5050 required  0.0000060 seconds\n",
      "Sum is 5050 required  0.0000048 seconds\n",
      "Sum is 5050 required  0.0000052 seconds\n",
      "Sum is 5050 required  0.0000062 seconds\n"
     ]
    }
   ],
   "source": [
    "##使用这种求和方式，sumofN2运算时间线性增加\n",
    "def myfunc():\n",
    "    import time\n",
    "\n",
    "    def sumofN2(n):\n",
    "        start = time.time()\n",
    "        sum = 0\n",
    "        for i in range(1,n+1):\n",
    "            sum += i \n",
    "        end = time.time()\n",
    "        return sum, end - start\n",
    "\n",
    "\n",
    "    for i in range(5):\n",
    "        print(\"Sum is %d required %10.7f seconds\"% sumofN2(100))\n",
    "    \n",
    "\n",
    "myfunc()\n",
    "\n"
   ]
  },
  {
   "cell_type": "code",
   "execution_count": 42,
   "metadata": {},
   "outputs": [
    {
     "name": "stdout",
     "output_type": "stream",
     "text": [
      "Sum is 55 required  0.0000010 seconds\n",
      "Sum is 5050 required  0.0000029 seconds\n",
      "Sum is 500500 required  0.0000010 seconds\n",
      "Sum is 50005000 required  0.0000010 seconds\n",
      "Sum is 5000050000 required  0.0000012 seconds\n"
     ]
    }
   ],
   "source": [
    "## 使用这种算法，求和的时间和n没有关系。\n",
    "def myfunc():\n",
    "    def sumofN3(n):\n",
    "        start = time.time()\n",
    "        sum_ = (n * (n + 1)) / 2\n",
    "        end = time.time()\n",
    "    \n",
    "        return sum_, end-start\n",
    "    \n",
    "    for n in [10 ** i  for i in range(1,6)]:\n",
    "        print(\"Sum is %d required %10.7f seconds\"% sumofN3(n))\n",
    "\n",
    "myfunc()"
   ]
  },
  {
   "cell_type": "markdown",
   "metadata": {},
   "source": [
    "上述时间值受到计算机本身的影响，影响一个程序的运行时间的因素很多，因此需要有具体、通用的时间度量指标。"
   ]
  },
  {
   "cell_type": "markdown",
   "metadata": {},
   "source": []
  }
 ],
 "metadata": {
  "kernelspec": {
   "display_name": "Python 3 (ipykernel)",
   "language": "python",
   "name": "python3"
  },
  "language_info": {
   "codemirror_mode": {
    "name": "ipython",
    "version": 3
   },
   "file_extension": ".py",
   "mimetype": "text/x-python",
   "name": "python",
   "nbconvert_exporter": "python",
   "pygments_lexer": "ipython3",
   "version": "3.10.9"
  }
 },
 "nbformat": 4,
 "nbformat_minor": 2
}
