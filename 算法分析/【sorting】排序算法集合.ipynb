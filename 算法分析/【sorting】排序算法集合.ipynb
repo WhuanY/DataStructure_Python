{
 "cells": [
  {
   "cell_type": "markdown",
   "metadata": {},
   "source": [
    "#### 二分法查找\n",
    "- 这种办法的复杂度满足：第i此剩下n\\2^i，令其等于1， 解得 i = log_2(n)。因此二分法的复杂度是log(n)\n",
    "- 实际情况中，排序也需要消耗复杂度，因此对于给定一个列表，索引任务需要权衡。\n",
    "    - 如果数据经常变更，多次查找消耗复杂度，这个时候顺序查找可能更优（程序固定）\n",
    "    - 如果数据集只需要一次变更（或变更次数少），那么排序之后进行二分法查找可能更优化（一次累，后面轻松）\n"
   ]
  },
  {
   "cell_type": "code",
   "execution_count": 4,
   "metadata": {},
   "outputs": [
    {
     "data": {
      "text/plain": [
       "False"
      ]
     },
     "execution_count": 4,
     "metadata": {},
     "output_type": "execute_result"
    }
   ],
   "source": [
    "def binarySearch(alist, item):\n",
    "    if len(alist) == 0:\n",
    "        return False\n",
    "    else:\n",
    "        midpoint = len(alist) // 2\n",
    "        if alist[midpoint] == item:\n",
    "            return True\n",
    "        else:\n",
    "            if item < alist[midpoint]:\n",
    "                return binarySearch(alist[:midpoint],item)\n",
    "            else:\n",
    "                return binarySearch(alist[midpoint+1:],item)\n",
    "\n",
    "binarySearch([1,2,3,4,66,444,232,4123,2312],65)"
   ]
  },
  {
   "cell_type": "markdown",
   "metadata": {},
   "source": [
    "#### 排序\n",
    "##### 冒泡排序\n",
    "- 计算次数：1/2 n^2 - 1/2 n\n",
    "- 复杂度：O(n^2)\n",
    "- 劣势：慢。O(n^2)\n",
    "- 优势：只涉及到相邻数据比较，没有空间存储开销。\n",
    "    - 性能优化的一种方式：通过判断一轮下来是否存在交换确认是否排序完成：O(n)"
   ]
  },
  {
   "cell_type": "code",
   "execution_count": 5,
   "metadata": {},
   "outputs": [
    {
     "name": "stdout",
     "output_type": "stream",
     "text": [
      "[0, 1, 2, 3, 4, 5, 6, 8, 9]\n"
     ]
    }
   ],
   "source": [
    "def bubbleSort(alist):\n",
    "    for passnum in range(len(alist)-1,0,-1):\n",
    "        for i in range(passnum):\n",
    "            if alist[i] > alist[i+1]:\n",
    "                alist[i], alist[i + 1] = alist[i+1], alist[i]\n",
    "\n",
    "alist = [1,2,4,3,5,6,8,0,9]\n",
    "bubbleSort(alist)\n",
    "print(alist)"
   ]
  },
  {
   "cell_type": "markdown",
   "metadata": {},
   "source": [
    "##### 选择排序\n",
    "每一次顺序查找，将最大值放在最后一位。"
   ]
  },
  {
   "cell_type": "code",
   "execution_count": 7,
   "metadata": {},
   "outputs": [],
   "source": [
    " def selectionSort(alist):\n",
    "    for fillslot in range(len(alist)-1,0,-1):\n",
    "        positionOfMax = 0 \n",
    "        for location in range(1, fillslot+1):\n",
    "            if alist[location] > alist[positionofMax]:\n",
    "                positionOfMax = location\n",
    "        alist[positionOfMax], alist[-1] = alist[-1], alist[positionOfMax]"
   ]
  },
  {
   "cell_type": "markdown",
   "metadata": {},
   "source": [
    "##### 插入排序\n",
    "相对于冒泡排序所需要的交换赋值\n",
    "\n",
    "（\n",
    "需要三次赋值：\n",
    "`temp = alist[positionOfMax]`, \n",
    "`alist[positionOfMax] = alist[-1]`, \n",
    "`alist[-1] = temp`\n",
    "）;\n",
    "\n",
    "这种办法值需要一次赋值\n",
    "\n",
    "（\n",
    "`alist[position] = alist[position-1]`\n",
    ")\n",
    "\n",
    "因此在同数量级下更优。\n"
   ]
  },
  {
   "cell_type": "code",
   "execution_count": 2,
   "metadata": {},
   "outputs": [],
   "source": [
    "def insertionSort(alist):\n",
    "    for index in range(1,len(alist)):\n",
    "\n",
    "        currentvalue = alist[index]\n",
    "        position = index\n",
    "\n",
    "        while position > 0 and alist[position-1] > currentvalue:\n",
    "            alist[position] = alist[position-1]\n",
    "            position = position - 1\n",
    "\n",
    "        alist[position] = currnetvalue"
   ]
  },
  {
   "cell_type": "markdown",
   "metadata": {},
   "source": [
    "##### 谢尔排序\n",
    "- 复杂度：大约是O(n^{3/2})\n",
    "- https://zh.wikipedia.org/zh-hans/希尔排序"
   ]
  },
  {
   "cell_type": "code",
   "execution_count": 3,
   "metadata": {},
   "outputs": [],
   "source": [
    "def shell_sort(list):\n",
    "    n = len(list)\n",
    "    # 初始步長\n",
    "    gap = n // 2\n",
    "    while gap > 0:\n",
    "        for i in range(gap, n):\n",
    "            # 每个步長進行插入排序\n",
    "            temp = list[i]\n",
    "            j = i\n",
    "            # 插入排序\n",
    "            while j >= 0 and j-gap >= 0 and list[j - gap] > temp:\n",
    "                list[j] = list[j - gap]\n",
    "                j -= gap\n",
    "            list[j] = temp\n",
    "        # 得到新的步長\n",
    "        gap = gap // 2\n",
    "    return list"
   ]
  },
  {
   "cell_type": "markdown",
   "metadata": {},
   "source": [
    "##### 归并排序\n",
    "- 是一种二分法的排序。采用了分治的策略\n",
    "- 分的复杂度是log(n)\n",
    "- 合的复杂度，由于是线性比较，因此是线性复杂度 \n",
    "- 因此总的复杂度是nlog(n)\n",
    "- 他的缺点是使用了额外一倍的存储空间进行归并。"
   ]
  },
  {
   "cell_type": "code",
   "execution_count": 11,
   "metadata": {},
   "outputs": [],
   "source": [
    "# merge sort\n",
    "# 归并排序\n",
    "def merge_sort(lst):\n",
    "    # 结束条件\n",
    "    if len(lst) <= 1:\n",
    "        return lst\n",
    "    \n",
    "    # 分解问题\n",
    "    middle = len(lst) // 2\n",
    "    left = merge_sort(lst[:middle])\n",
    "    right = merge_sort(lst[middle:])\n",
    "\n",
    "    # 合并左右半部分，完成排序、\n",
    "    while left and right:\n",
    "        if left[0] <= right[0]:\n",
    "            merge.append(left.pop(0))\n",
    "        else:\n",
    "            merge.append(right.pop(0))\n",
    "    \n",
    "    merge.extend(right if right else left)  \n",
    "\n",
    "    return merged\n"
   ]
  },
  {
   "cell_type": "code",
   "execution_count": 9,
   "metadata": {},
   "outputs": [
    {
     "data": {
      "text/plain": [
       "[1, 2, 3]"
      ]
     },
     "execution_count": 9,
     "metadata": {},
     "output_type": "execute_result"
    }
   ],
   "source": []
  },
  {
   "cell_type": "code",
   "execution_count": null,
   "metadata": {},
   "outputs": [],
   "source": []
  }
 ],
 "metadata": {
  "kernelspec": {
   "display_name": "Python 3 (ipykernel)",
   "language": "python",
   "name": "python3"
  },
  "language_info": {
   "codemirror_mode": {
    "name": "ipython",
    "version": 3
   },
   "file_extension": ".py",
   "mimetype": "text/x-python",
   "name": "python",
   "nbconvert_exporter": "python",
   "pygments_lexer": "ipython3",
   "version": "3.10.9"
  }
 },
 "nbformat": 4,
 "nbformat_minor": 2
}
