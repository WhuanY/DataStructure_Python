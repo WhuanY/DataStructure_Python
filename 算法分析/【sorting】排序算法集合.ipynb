{
 "cells": [
  {
   "cell_type": "markdown",
   "metadata": {},
   "source": [
    "#### 二分法查找\n",
    "- 这种办法的复杂度满足：第i此剩下n\\2^i，令其等于1， 解得 i = log_2(n)。因此二分法的复杂度是log(n)\n",
    "- 实际情况中，排序也需要消耗复杂度，因此对于给定一个列表，索引任务需要权衡。\n",
    "    - 如果数据经常变更，多次查找消耗复杂度，这个时候顺序查找可能更优（程序固定）\n",
    "    - 如果数据集只需要一次变更（或变更次数少），那么排序之后进行二分法查找可能更优化（一次累，后面轻松）\n"
   ]
  },
  {
   "cell_type": "code",
   "execution_count": 4,
   "metadata": {},
   "outputs": [
    {
     "data": {
      "text/plain": [
       "False"
      ]
     },
     "execution_count": 4,
     "metadata": {},
     "output_type": "execute_result"
    }
   ],
   "source": [
    "def binarySearch(alist, item):\n",
    "    if len(alist) == 0:\n",
    "        return False\n",
    "    else:\n",
    "        midpoint = len(alist) // 2\n",
    "        if alist[midpoint] == item:\n",
    "            return True\n",
    "        else:\n",
    "            if item < alist[midpoint]:\n",
    "                return binarySearch(alist[:midpoint],item)\n",
    "            else:\n",
    "                return binarySearch(alist[midpoint+1:],item)\n",
    "\n",
    "binarySearch([1,2,3,4,66,444,232,4123,2312],65)"
   ]
  },
  {
   "cell_type": "markdown",
   "metadata": {},
   "source": [
    "#### 排序\n",
    "##### 冒泡排序\n",
    "- 计算次数：1/2 n^2 - 1/2 n\n",
    "- 复杂度：O(n^2)\n",
    "- 劣势：慢。O(n^2)\n",
    "- 优势：只涉及到相邻数据比较，没有空间存储开销。\n",
    "    - 性能优化的一种方式：通过判断一轮下来是否存在交换确认是否排序完成：O(n)"
   ]
  },
  {
   "cell_type": "code",
   "execution_count": 5,
   "metadata": {},
   "outputs": [
    {
     "name": "stdout",
     "output_type": "stream",
     "text": [
      "[0, 1, 2, 3, 4, 5, 6, 8, 9]\n"
     ]
    }
   ],
   "source": [
    "def bubbleSort(alist):\n",
    "    for passnum in range(len(alist)-1,0,-1):\n",
    "        for i in range(passnum):\n",
    "            if alist[i] > alist[i+1]:\n",
    "                alist[i], alist[i + 1] = alist[i+1], alist[i]\n",
    "\n",
    "alist = [1,2,4,3,5,6,8,0,9]\n",
    "bubbleSort(alist)\n",
    "print(alist)"
   ]
  },
  {
   "cell_type": "markdown",
   "metadata": {},
   "source": [
    "##### 选择排序\n",
    "每一次顺序查找，将最大值放在最后一位。"
   ]
  },
  {
   "cell_type": "code",
   "execution_count": 7,
   "metadata": {},
   "outputs": [],
   "source": [
    " def selectionSort(alist):\n",
    "    for fillslot in range(len(alist)-1,0,-1):\n",
    "        positionOfMax = 0 \n",
    "        for location in range(1, fillslot+1):\n",
    "            if alist[location] > alist[positionofMax]:\n",
    "                positionOfMax = location\n",
    "        alist[positionOfMax], alist[-1] = alist[-1], alist[positionOfMax]\n",
    "            "
   ]
  },
  {
   "cell_type": "code",
   "execution_count": 6,
   "metadata": {},
   "outputs": [
    {
     "name": "stdout",
     "output_type": "stream",
     "text": [
      "9\n",
      "8\n",
      "7\n",
      "6\n",
      "5\n",
      "4\n",
      "3\n",
      "2\n",
      "1\n"
     ]
    }
   ],
   "source": [
    "for i in range(9,0,-1):\n",
    "    print(i)"
   ]
  },
  {
   "cell_type": "code",
   "execution_count": null,
   "metadata": {},
   "outputs": [],
   "source": []
  }
 ],
 "metadata": {
  "kernelspec": {
   "display_name": "Python 3 (ipykernel)",
   "language": "python",
   "name": "python3"
  },
  "language_info": {
   "codemirror_mode": {
    "name": "ipython",
    "version": 3
   },
   "file_extension": ".py",
   "mimetype": "text/x-python",
   "name": "python",
   "nbconvert_exporter": "python",
   "pygments_lexer": "ipython3",
   "version": "3.10.9"
  }
 },
 "nbformat": 4,
 "nbformat_minor": 2
}
