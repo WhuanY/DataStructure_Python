{
 "cells": [
  {
   "cell_type": "markdown",
   "metadata": {},
   "source": [
    "## 找零问题的动态规划算法\n",
    "- 问题初始化：对于一分找零的最优解是1枚硬币（还1分），并且记录在动态规划表中\n",
    "    - 动态规划表：每一个change的找零问题，都有对应的索引记录当前change的最优解。\n",
    "- 分治：从零分钱开始寻找这个问题的最优解，对于任意change的找零问题，解决方案如下：\n",
    "    1. 任意change减去货币体系中任一面值的硬币得到新的change找零子问题\n",
    "    2. 通过动态规划表索引查询，获得change减去其中某一货币体系面值后的找零子问题的最优解。\n",
    "        - 对于某一个减去的面值，都有一个当前change的最优解候选值。\n",
    "        - 这个当前最优解候选值为minCoins[change - cents] + 1\n",
    "    3. 最优解候选值中选择最小的即可。\n",
    "   "
   ]
  },
  {
   "cell_type": "code",
   "execution_count": 12,
   "metadata": {},
   "outputs": [
    {
     "name": "stdout",
     "output_type": "stream",
     "text": [
      "动态规划表：[0, 1, 2, 3, 4, 1, 2, 3, 4, 5, 1, 2, 3, 4, 5, 2, 3, 4, 5, 6, 2, 1, 2, 3, 4, 1, 2, 3, 4, 5, 2, 2, 3, 4, 5, 2, 3, 4, 5, 6, 3, 3, 2, 3, 4, 3, 2, 3, 4, 5, 2, 3, 3, 4, 5, 3, 3, 4, 5, 6, 3, 4, 4, 3, 4, 0, 0, 0, 0, 0, 0, 0, 0, 0, 0, 0, 0, 0, 0, 0, 0, 0, 0, 0, 0, 0, 0, 0, 0, 0, 0, 0, 0, 0, 0, 0, 0, 0, 0, 0, 0, 0, 0, 0, 0, 0, 0, 0, 0, 0, 0, 0, 0, 0]\n",
      "4\n"
     ]
    }
   ],
   "source": [
    "# BaseLine\n",
    "def dpMakeChange(coinValueList, change, minCoins):\n",
    "    # 从1分开始到change，逐个计算最少硬币数\n",
    "    for cents in range(1,change + 1):\n",
    "        # 1. 初始化一个最大值\n",
    "        coinCount = cents\n",
    "        # 2. 减去每个硬币，向后查最少硬币数，同时记录总的最少数量\n",
    "        for j in [c for c in coinValueList if c <= cents]:\n",
    "            if minCoins[cents - j] + 1 < coinCount:\n",
    "                coinCount = minCoins[cents - j] + 1\n",
    "            # 3. 得到当前最少硬币数，记录到表中\n",
    "        minCoins[cents] = coinCount\n",
    "    print(f\"动态规划表：{minCoins}\")\n",
    "    return (minCoins[change])\n",
    "\n",
    "print(dpMakeChange([1,5,10,21,25],64,[0] * 114))"
   ]
  }
 ],
 "metadata": {
  "kernelspec": {
   "display_name": "Python 3 (ipykernel)",
   "language": "python",
   "name": "python3"
  },
  "language_info": {
   "codemirror_mode": {
    "name": "ipython",
    "version": 3
   },
   "file_extension": ".py",
   "mimetype": "text/x-python",
   "name": "python",
   "nbconvert_exporter": "python",
   "pygments_lexer": "ipython3",
   "version": "3.10.9"
  }
 },
 "nbformat": 4,
 "nbformat_minor": 2
}
