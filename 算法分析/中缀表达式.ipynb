{
 "cells": [
  {
   "cell_type": "markdown",
   "metadata": {},
   "source": [
    "## 中缀表达式\n",
    "- 中缀表达式存在优先级。例如，A + B * C 表示唯一的运算次序。\n",
    "- 括号来表示强制的优先级别。\n",
    "\n",
    "- 表达式中存在三个重要元素：\n",
    "    - 数字 A B C\n",
    "    - 运算符 +-*/()\n",
    "    - 优先级 根据符号本身和括号位置决定\n",
    "- 全括号表达式：在所有的表达式项两边都加上括号。\n",
    "    - A + B * C + D --> ((A + (B * C) + D))\n",
    "\n",
    "## 前缀表达式和后缀表达式\n",
    "| 中缀表达式 | 前缀表达式 | 后缀表达式 |\n",
    "| --------- | --------- | --------- |\n",
    "| A + B * C + D | + + A * B C D | A B C * + D + |\n",
    "| (A + B) * (C + D) | * + A B + C D | A B + C D + * |\n",
    "| A * B + C * D | + * A B * C D | A B * C D * + |\n",
    "| A + B + C + D | + + + A B C D | A B + C + D + |\n",
    "\n",
    "- 目标：中缀表达式变为前后缀表达式\n",
    "- 可行流程：\n",
    "    - 中缀表示法变为全括号表达式\n",
    "        - 前缀表达式：对于每一次运算，将右括号去除，左括号改变为响应的运算符。\n",
    "        - 后缀表达式：对于每一次运算，将左括号去除，右括号改变为响应的运算符。\n",
    "通用算法：\n",
    "    - "
   ]
  },
  {
   "cell_type": "code",
   "execution_count": 1,
   "metadata": {},
   "outputs": [],
   "source": [
    "class Stack:\n",
    "    def __init__(self):\n",
    "        self.items = []\n",
    "    \n",
    "    def isEmpty(self):\n",
    "        return self.items == []\n",
    "\n",
    "    def push(self,item):\n",
    "        self.items.append(item)\n",
    "\n",
    "    def pop(self):\n",
    "        return self.items.pop()\n",
    "    \n",
    "    def peek(self):\n",
    "        return self.items[len(self.items)-1]\n",
    "    \n",
    "    def size(self):\n",
    "        return len(self.items)"
   ]
  },
  {
   "cell_type": "code",
   "execution_count": 5,
   "metadata": {},
   "outputs": [],
   "source": [
    "# 中缀表达式转换为后缀表达式实现\n",
    "def infixToPostfix(infixexpr):\n",
    "    prec = {}\n",
    "    prec[\"*\"] = 3\n",
    "    prec[\"/\"] = 3\n",
    "    prec[\"+\"] = 2\n",
    "    prec['-'] = 2\n",
    "    prec['('] = 1\n",
    "    opStack = Stack()\n",
    "    postfixlist = []\n",
    "    tokenList = infixexpr.split()\n",
    "    for token in tokenList:\n",
    "        if token in \"ABCDEFGHIJKLMNOPQRSTUVWXYZ\" or token in \"0123456789\":\n",
    "            postfixList.append(token)\n",
    "        elif token == \"(\":\n",
    "            opStack.push(token)\n",
    "        elif token == \")\":\n",
    "            topToken = opStack.pop()\n",
    "            while toptoken != '(':\n",
    "                postfixList.append(toptoken)\n",
    "                topToken = opStack.pop()\n",
    "        else: \n",
    "            while (not opStack.isEmpty()) and (prec[opStack.peek()] >= prec[token]):\n",
    "                postfixList.append(opStack.pop())\n",
    "            opStack.push(token)\n",
    "    \n",
    "    while not opStack.isEmpty():\n",
    "        postfixList.append(opStack.pop())\n",
    "    return \" \".join(posfixList)\n"
   ]
  },
  {
   "cell_type": "code",
   "execution_count": 3,
   "metadata": {},
   "outputs": [
    {
     "data": {
      "text/plain": [
       "['A', '+', 'B', '*', 'C', '+', 'D']"
      ]
     },
     "execution_count": 3,
     "metadata": {},
     "output_type": "execute_result"
    }
   ],
   "source": [
    "# 后缀表达式求值\n",
    "def PostfixCal(postfixExpr)\n",
    "    operandStack = Stack()\n",
    "    tokenlist = postfixExpr.split()\n",
    "    \n",
    "    for token in tokenlist:\n",
    "        if token in \"0123456789\":\n",
    "            operandStack.push(int(token))\n",
    "        else:\n",
    "            operand2 = operandStack.pop()\n",
    "            operand1 = operandStack.pop()\n",
    "            result = doMath(token, operand1, operand2)\n",
    "            operandStack.push(result)\n",
    "\n",
    "        def doMath(op, op1, op2):\n",
    "            if op == \"*\":\n",
    "                return op1 * op2\n",
    "            elif op == '/':\n",
    "                return op1 / op2\n",
    "            elif op == \"+\":\n",
    "                return op1 + op2\n",
    "            else:\n",
    "                return op1- op2"
   ]
  },
  {
   "cell_type": "markdown",
   "metadata": {},
   "source": []
  }
 ],
 "metadata": {
  "kernelspec": {
   "display_name": "Python 3 (ipykernel)",
   "language": "python",
   "name": "python3"
  },
  "language_info": {
   "codemirror_mode": {
    "name": "ipython",
    "version": 3
   },
   "file_extension": ".py",
   "mimetype": "text/x-python",
   "name": "python",
   "nbconvert_exporter": "python",
   "pygments_lexer": "ipython3",
   "version": "3.10.9"
  }
 },
 "nbformat": 4,
 "nbformat_minor": 2
}
