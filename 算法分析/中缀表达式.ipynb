{
 "cells": [
  {
   "cell_type": "markdown",
   "metadata": {},
   "source": [
    "## 中缀表达式\n",
    "中缀表达式存在优先级。例如，A + B * C 表示唯一的运算次序。\n",
    "括号来表示强制的优先级别。\n",
    "\n",
    "全括号表达式：在所有的表达式项两边都加上括号。\n",
    "A + B * C + D --> ((A + (B * C) + D))\n",
    "\n",
    "## 前缀表达式和后缀表达式\n",
    "| 中缀表达式 | 前缀表达式 | 后缀表达式 |\n",
    "| --------- | --------- | --------- |\n",
    "| A + B * C + D | + + A * B C D | A B C * + D + |\n",
    "| (A + B) * (C + D) | * + A B + C D | A B + C D + * |\n",
    "| A * B + C * D | + * A B * C D | A B * C D * + |\n",
    "| A + B + C + D | + + + A B C D | A B + C + D + |\n",
    "\n"
   ]
  },
  {
   "cell_type": "markdown",
   "metadata": {},
   "source": []
  }
 ],
 "metadata": {
  "language_info": {
   "name": "python"
  }
 },
 "nbformat": 4,
 "nbformat_minor": 2
}
